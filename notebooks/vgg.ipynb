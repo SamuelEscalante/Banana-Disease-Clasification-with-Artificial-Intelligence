{
 "cells": [
  {
   "cell_type": "code",
   "execution_count": 1,
   "metadata": {},
   "outputs": [],
   "source": [
    "import tensorflow as tf\n",
    "from tensorflow.keras.preprocessing.image import ImageDataGenerator\n",
    "from tensorflow.keras.applications import VGG16, VGG19\n",
    "from tensorflow.keras.models import Model\n",
    "from tensorflow.keras.layers import (Conv2D, MaxPooling2D, Flatten, Dense, Dropout,\n",
    "                                     BatchNormalization)\n",
    "from tensorflow.keras.optimizers import Adam\n",
    "import matplotlib.pyplot as plt\n",
    "import seaborn as sns\n",
    "from sklearn.metrics import classification_report, confusion_matrix\n",
    "import numpy as np\n"
   ]
  },
  {
   "cell_type": "code",
   "execution_count": 2,
   "metadata": {},
   "outputs": [
    {
     "name": "stdout",
     "output_type": "stream",
     "text": [
      "Found 1120 images belonging to 4 classes.\n",
      "Found 160 images belonging to 4 classes.\n",
      "Found 320 images belonging to 4 classes.\n"
     ]
    }
   ],
   "source": [
    "# Rutas de los conjuntos de datos\n",
    "train_dir = '../data/train'\n",
    "valid_dir = '../data/valid'\n",
    "test_dir = '../data/test'\n",
    "\n",
    "# Parámetros\n",
    "img_height, img_width = 244, 244 \n",
    "batch_size = 32\n",
    "\n",
    "# Aumento de datos para el conjunto de entrenamiento\n",
    "train_datagen = ImageDataGenerator(\n",
    "    rescale=1./255,\n",
    "    rotation_range=30,\n",
    "    width_shift_range=0.2,\n",
    "    height_shift_range=0.2,\n",
    "    shear_range=0.2,\n",
    "    zoom_range=0.2,\n",
    "    horizontal_flip=True,\n",
    "    fill_mode='nearest'\n",
    ")\n",
    "\n",
    "# Sólo reescalar para validación y prueba\n",
    "valid_datagen = ImageDataGenerator(rescale=1./255)\n",
    "test_datagen = ImageDataGenerator(rescale=1./255)\n",
    "\n",
    "# Generadores\n",
    "train_generator = train_datagen.flow_from_directory(\n",
    "    train_dir,\n",
    "    target_size=(img_height, img_width),\n",
    "    batch_size=batch_size,\n",
    "    class_mode='categorical'\n",
    ")\n",
    "\n",
    "valid_generator = valid_datagen.flow_from_directory(\n",
    "    valid_dir,\n",
    "    target_size=(img_height, img_width),\n",
    "    batch_size=batch_size,\n",
    "    class_mode='categorical'\n",
    ")\n",
    "\n",
    "test_generator = test_datagen.flow_from_directory(\n",
    "    test_dir,\n",
    "    target_size=(img_height, img_width),\n",
    "    batch_size=batch_size,\n",
    "    class_mode='categorical',\n",
    "    shuffle=False  # Para evaluar correctamente\n",
    ")\n"
   ]
  },
  {
   "cell_type": "code",
   "execution_count": 3,
   "metadata": {},
   "outputs": [],
   "source": [
    "base_model_inception = VGG19(weights='imagenet', include_top=False, input_shape=(img_height, img_width, 3))"
   ]
  },
  {
   "cell_type": "code",
   "execution_count": 5,
   "metadata": {},
   "outputs": [
    {
     "ename": "AttributeError",
     "evalue": "'DirectoryIterator' object has no attribute 'repeat'",
     "output_type": "error",
     "traceback": [
      "\u001b[1;31m---------------------------------------------------------------------------\u001b[0m",
      "\u001b[1;31mAttributeError\u001b[0m                            Traceback (most recent call last)",
      "Cell \u001b[1;32mIn[5], line 23\u001b[0m\n\u001b[0;32m     20\u001b[0m model\u001b[38;5;241m.\u001b[39mcompile(optimizer\u001b[38;5;241m=\u001b[39m\u001b[38;5;124m'\u001b[39m\u001b[38;5;124madam\u001b[39m\u001b[38;5;124m'\u001b[39m, loss\u001b[38;5;241m=\u001b[39m\u001b[38;5;124m'\u001b[39m\u001b[38;5;124mcategorical_crossentropy\u001b[39m\u001b[38;5;124m'\u001b[39m, metrics\u001b[38;5;241m=\u001b[39m[\u001b[38;5;124m'\u001b[39m\u001b[38;5;124maccuracy\u001b[39m\u001b[38;5;124m'\u001b[39m])\n\u001b[0;32m     22\u001b[0m \u001b[38;5;66;03m# Entrenar el modelo con tus datos\u001b[39;00m\n\u001b[1;32m---> 23\u001b[0m history \u001b[38;5;241m=\u001b[39m model\u001b[38;5;241m.\u001b[39mfit(\u001b[43mtrain_generator\u001b[49m\u001b[38;5;241;43m.\u001b[39;49m\u001b[43mrepeat\u001b[49m(), \n\u001b[0;32m     24\u001b[0m                     validation_data\u001b[38;5;241m=\u001b[39mvalid_generator, \n\u001b[0;32m     25\u001b[0m                     epochs\u001b[38;5;241m=\u001b[39m\u001b[38;5;241m20\u001b[39m, \n\u001b[0;32m     26\u001b[0m                     steps_per_epoch\u001b[38;5;241m=\u001b[39m\u001b[38;5;28mlen\u001b[39m(train_generator), \n\u001b[0;32m     27\u001b[0m                     validation_steps\u001b[38;5;241m=\u001b[39m\u001b[38;5;28mlen\u001b[39m(valid_generator))\n",
      "\u001b[1;31mAttributeError\u001b[0m: 'DirectoryIterator' object has no attribute 'repeat'"
     ]
    }
   ],
   "source": [
    "# Congelar las capas del modelo base para no entrenarlas de nuevo\n",
    "base_model_inception.trainable = False\n",
    "\n",
    "# Aplanar las características extraídas por VGG16\n",
    "x = Flatten()(base_model_inception.output)\n",
    "\n",
    "# Agregar una capa completamente conectada con 512 unidades y activación ReLU\n",
    "x = Dense(512, activation='relu')(x)\n",
    "\n",
    "# Agregar Dropout para prevenir sobreajuste (ajuste fino del dropout según lo necesites)\n",
    "x = Dropout(0.5)(x)\n",
    "\n",
    "# Agregar la capa de salida con tantas unidades como clases en tu dataset\n",
    "output = Dense(train_generator.num_classes, activation='softmax')(x)\n",
    "\n",
    "# Crear el modelo final\n",
    "model = Model(inputs=base_model_inception.input, outputs=output)\n",
    "\n",
    "# Compilar el modelo (puedes ajustar el optimizador o la tasa de aprendizaje según sea necesario)\n",
    "model.compile(optimizer='adam', loss='categorical_crossentropy', metrics=['accuracy'])\n",
    "\n",
    "# Entrenar el modelo con tus datos\n",
    "history = model.fit(train_generator, \n",
    "                    validation_data=valid_generator, \n",
    "                    epochs=20, \n",
    "                    steps_per_epoch = train_generator.samples // batch_size,\n",
    "                    validation_steps = valid_generator.samples // batch_size)\n"
   ]
  },
  {
   "cell_type": "code",
   "execution_count": null,
   "metadata": {},
   "outputs": [],
   "source": [
    "# Evaluar en el conjunto de prueba\n",
    "test_loss, test_accuracy = model.evaluate(test_generator, steps=test_generator.samples // batch_size)\n",
    "print(f'Precisión en el conjunto de prueba: {test_accuracy*100:.2f}%')\n",
    "\n",
    "# Graficar las curvas de entrenamiento\n",
    "def plot_history(history):\n",
    "    acc = history.history['accuracy']\n",
    "    val_acc = history.history['val_accuracy']\n",
    "    loss = history.history['loss']\n",
    "    val_loss = history.history['val_loss']\n",
    "\n",
    "    epochs = range(1, min(len(acc), len(val_acc), len(loss), len(val_loss)) + 1)\n",
    "\n",
    "    plt.figure(figsize=(12, 5))\n",
    "\n",
    "    # Precisión\n",
    "    plt.subplot(1, 2, 1)\n",
    "    plt.plot(epochs, acc[:len(epochs)], 'b-', label='Precisión de entrenamiento')\n",
    "    plt.plot(epochs, val_acc[:len(epochs)], 'r-', label='Precisión de validación')\n",
    "    plt.title('Precisión de entrenamiento y validación')\n",
    "    plt.xlabel('Época')\n",
    "    plt.ylabel('Precisión')\n",
    "    plt.legend()\n",
    "\n",
    "    # Pérdida\n",
    "    plt.subplot(1, 2, 2)\n",
    "    plt.plot(epochs, loss[:len(epochs)], 'b-', label='Pérdida de entrenamiento')\n",
    "    plt.plot(epochs, val_loss[:len(epochs)], 'r-', label='Pérdida de validación')\n",
    "    plt.title('Pérdida de entrenamiento y validación')\n",
    "    plt.xlabel('Época')\n",
    "    plt.ylabel('Pérdida')\n",
    "    plt.legend()\n",
    "\n",
    "    plt.show()\n",
    "\n",
    "plot_history(history)"
   ]
  },
  {
   "cell_type": "code",
   "execution_count": null,
   "metadata": {},
   "outputs": [],
   "source": [
    "# Obtener las predicciones y etiquetas verdaderas\n",
    "test_generator.reset()\n",
    "predictions = model.predict(test_generator, steps=test_generator.samples // batch_size, verbose=1)\n",
    "predicted_classes = np.argmax(predictions, axis=1)\n",
    "true_classes = test_generator.classes[:len(predicted_classes)]\n",
    "class_labels = list(test_generator.class_indices.keys())\n",
    "\n",
    "# Matriz de confusión\n",
    "cm = confusion_matrix(true_classes, predicted_classes)\n",
    "plt.figure(figsize=(8,6))\n",
    "sns.heatmap(cm, annot=True, fmt='d', xticklabels=class_labels, yticklabels=class_labels, cmap='Blues')\n",
    "plt.ylabel('Etiqueta Verdadera')\n",
    "plt.xlabel('Etiqueta Predicha')\n",
    "plt.title('Matriz de Confusión')\n",
    "plt.show()\n",
    "\n",
    "# Informe de clasificación\n",
    "report = classification_report(true_classes, predicted_classes, target_names=class_labels)\n",
    "print(report)\n"
   ]
  }
 ],
 "metadata": {
  "kernelspec": {
   "display_name": "venv",
   "language": "python",
   "name": "python3"
  },
  "language_info": {
   "codemirror_mode": {
    "name": "ipython",
    "version": 3
   },
   "file_extension": ".py",
   "mimetype": "text/x-python",
   "name": "python",
   "nbconvert_exporter": "python",
   "pygments_lexer": "ipython3",
   "version": "3.10.11"
  }
 },
 "nbformat": 4,
 "nbformat_minor": 2
}
